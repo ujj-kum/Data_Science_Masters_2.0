{
 "cells": [
  {
   "cell_type": "markdown",
   "id": "59075d5a-a4a0-4be4-9177-27d2354289c9",
   "metadata": {},
   "source": [
    "### Q1. What is Flask Framework? What are the advantages of Flask Framework?\n",
    "\n",
    "Flask is a micro web framework for Python. It is used to build web applications and APIs without imposing a specific project structure.\n",
    "\n",
    "Advantages of Flask:\n",
    "- Supports RESTful Request Handling:\n",
    "\n",
    "RESTful API: Flask's routing system and support for request handling make it suitable for building RESTful APIs.\n",
    "Easy Integration: It integrates well with tools like Flask-RESTful to create comprehensive APIs.\n",
    "\n",
    "- Easy to Deploy:\n",
    "\n",
    "Deployment: Flask applications can be easily deployed to various platforms, including Heroku, AWS, and more, thanks to its compatibility with the WSGI standard.\n",
    "Scalable Hosting: Suitable for cloud hosting, containerization (e.g., Docker), and other modern deployment techniques.\n",
    "\n",
    "- Lightweight and Simple to Use:\n",
    "\n",
    "Minimal Setup: Flask requires minimal setup, making it quick and easy to start a new project.\n",
    "Simplicity: The framework’s simplicity allows developers to focus on writing code without dealing with unnecessary complexities."
   ]
  },
  {
   "cell_type": "markdown",
   "id": "56e862a5-1101-4995-a8fe-f794c8d223b5",
   "metadata": {},
   "source": [
    "### Q2. Create a simple Flask application to display ‘Hello World!!’. Attach the screenshot of the output in Jupyter Notebook.\n",
    "\n",
    "![Output 1](Output_1.png)"
   ]
  },
  {
   "cell_type": "markdown",
   "id": "262d8159-d153-4057-b636-2230e318d511",
   "metadata": {},
   "source": [
    "### Q3. What is App routing in Flask? Why do we use app routes?\n",
    "\n",
    "App routing in Flask refers to the process of mapping URLs (web addresses) to functions that handle the requests made to those URLs. Essentially, it defines how the web application responds to different HTTP requests (like GET, POST) directed to various endpoints.\n",
    "\n",
    "Usage:\n",
    "- URL Management:\n",
    "\n",
    "They allow you to define and manage the structure of the URLs in your web application. Each route corresponds to a unique URL that triggers a specific function.\n",
    "\n",
    "- Language Independency:\n",
    "\n",
    "It proviedes us mechanism to make language independent functions because at the end of the day, we are npt using function directly but instead use the URL binded to them to get POST and GET requests and to make APIs."
   ]
  },
  {
   "cell_type": "markdown",
   "id": "d92bb69f-896a-4e1c-b3a4-34f01dabbbf3",
   "metadata": {},
   "source": [
    "### Q4. Create a “/welcome” route to display the welcome message “Welcome to ABC Corporation” and a “/” route to show the following details:\n",
    "Company Name: ABC Corporation\n",
    "Location: India\n",
    "Contact Detail: 999-999-9999\n",
    "Attach the screenshot of the output in Jupyter Notebook.\n",
    "\n",
    "![Output 2](Output_2.png)\n",
    "![Output 3](Output_3.png)"
   ]
  },
  {
   "cell_type": "markdown",
   "id": "c38b819f-2a67-40cf-8af1-7532690236a8",
   "metadata": {},
   "source": [
    "### Q5. What function is used in Flask for URL Building? Write a Python code to demonstrate the working of the url_for() function.\n",
    "\n",
    "**url_for()** is used in Flask for URL Building\n",
    "\n"
   ]
  },
  {
   "cell_type": "raw",
   "id": "a86c3dbd-84c1-42ba-8ca2-a8377d1a92b1",
   "metadata": {},
   "source": [
    "# import the Flask library \n",
    "from flask import Flask, redirect, url_for, render_template, request \n",
    "\n",
    "\n",
    "# Create the Flask instance and pass the Flask \n",
    "# constructor the path of the currect module \n",
    "app = Flask(__name__) \n",
    "\n",
    "\n",
    "# Default route added using a decorator for view \n",
    "# function 'welcome' Landing page of our web application \n",
    "@app.route('/') \n",
    "def welcome(): \n",
    "\treturn render_template('sportsmain.html') \n",
    "\n",
    "# View function for URL 'localhost:5000/sport/cricket/india' \n",
    "\n",
    "\n",
    "@app.route('/cricket/<favteam>') \n",
    "def cricket(favteam): \n",
    "\treturn render_template('cricket.html', fav=favteam) \n",
    "\n",
    "# View function for URL 'localhost:5000/sport/baseball/india' \n",
    "\n",
    "\n",
    "@app.route('/baseball/<favteam>') \n",
    "def baseball(favteam): \n",
    "\treturn render_template('baseball.html', fav=favteam) \n",
    "\n",
    "# View function for URL 'localhost:5000/sport/carrom/india' \n",
    "\n",
    "\n",
    "@app.route('/carrom/<favteam>') \n",
    "def carrom(favteam): \n",
    "\treturn render_template('carrom.html', fav=favteam) \n",
    "\n",
    "\n",
    "# Logic to decide which template file to call based on 'name' variable \n",
    "# The 'team' variable will be passed to the appropriate view function \n",
    "# url_for method here calls the appropriate view function and \n",
    "# passes the parameter required \n",
    "@app.route('/sport/<name>/<team>') \n",
    "def game(name, team): \n",
    "\t# If sport is cricket call the view function for \n",
    "\t# same and pass team name \n",
    "\tif name == 'cricket': \n",
    "\t\treturn redirect(url_for('cricket', favteam=team)) \n",
    "\telif name == 'baseball': \n",
    "\t# If sport is baseball call the view function for \n",
    "\t# same and pass team name \n",
    "\t\treturn redirect(url_for('baseball', favteam=team)) \n",
    "\t# If sport is carrom call the view function for \n",
    "\t# same and pass team name \n",
    "\telif name == 'carrom': \n",
    "\t\treturn redirect(url_for('carrom', favteam=team)) \n",
    "\t# If any other sport is mentioned return the \n",
    "\t# 'workinprogress' webpage \n",
    "\telse: \n",
    "\t# IF the game page is not present return \n",
    "\t# 'workinprogress.html' page \n",
    "\t\treturn render_template('workinprogress.html', \n",
    "\t\t\t\t\t\t\tsportname=name) \n",
    "\n",
    "\n",
    "# Start with flask web app with debug as True only \n",
    "# if this is the starting page \n",
    "if(__name__ == \"__main__\"): \n",
    "\tapp.run(debug=True) \n"
   ]
  },
  {
   "cell_type": "code",
   "execution_count": null,
   "id": "08a50107-a6af-47f7-a081-6f79d68cbc87",
   "metadata": {},
   "outputs": [],
   "source": []
  }
 ],
 "metadata": {
  "kernelspec": {
   "display_name": "Python 3 (ipykernel)",
   "language": "python",
   "name": "python3"
  },
  "language_info": {
   "codemirror_mode": {
    "name": "ipython",
    "version": 3
   },
   "file_extension": ".py",
   "mimetype": "text/x-python",
   "name": "python",
   "nbconvert_exporter": "python",
   "pygments_lexer": "ipython3",
   "version": "3.10.8"
  }
 },
 "nbformat": 4,
 "nbformat_minor": 5
}
